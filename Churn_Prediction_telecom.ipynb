{
  "cells": [
    {
      "cell_type": "code",
      "execution_count": 10,
      "id": "b2793d12",
      "metadata": {
        "execution": {
          "iopub.execute_input": "2025-09-25T00:41:17.900861Z",
          "iopub.status.busy": "2025-09-25T00:41:17.900062Z",
          "iopub.status.idle": "2025-09-25T00:41:23.457899Z",
          "shell.execute_reply": "2025-09-25T00:41:23.456686Z"
        },
        "papermill": {
          "duration": 5.566195,
          "end_time": "2025-09-25T00:41:23.459713",
          "exception": false,
          "start_time": "2025-09-25T00:41:17.893518",
          "status": "completed"
        },
        "tags": [],
        "colab": {
          "base_uri": "https://localhost:8080/"
        },
        "id": "b2793d12",
        "outputId": "0ecb253d-3066-4088-9242-581be78f2d16"
      },
      "outputs": [
        {
          "output_type": "stream",
          "name": "stdout",
          "text": [
            "   CustomerID  Age  Gender  Tenure  MonthlyCharges    ContractType  \\\n",
            "0           1   49    Male       4           88.35  Month-to-Month   \n",
            "1           2   43    Male       0           36.67  Month-to-Month   \n",
            "2           3   51  Female       2           63.79  Month-to-Month   \n",
            "3           4   60  Female       8          102.34        One-Year   \n",
            "4           5   42    Male      32           69.01  Month-to-Month   \n",
            "\n",
            "  InternetService  TotalCharges TechSupport Churn  \n",
            "0     Fiber Optic        353.40         Yes   Yes  \n",
            "1     Fiber Optic          0.00         Yes   Yes  \n",
            "2     Fiber Optic        127.58          No   Yes  \n",
            "3             DSL        818.72         Yes   Yes  \n",
            "4             NaN       2208.32          No   Yes  \n"
          ]
        }
      ],
      "source": [
        "import pandas as pd\n",
        "import numpy as np\n",
        "import matplotlib.pyplot as plt\n",
        "from sklearn.preprocessing import LabelEncoder\n",
        "from sklearn.preprocessing import StandardScaler\n",
        "import seaborn as sns\n",
        "from sklearn.model_selection import train_test_split\n",
        "from sklearn.linear_model import LogisticRegression\n",
        "from sklearn.metrics import accuracy_score, classification_report\n",
        "from sklearn.tree import DecisionTreeClassifier\n",
        "from sklearn.ensemble import RandomForestClassifier\n",
        "from xgboost import XGBClassifier\n",
        "from sklearn.metrics import accuracy_score, precision_score, recall_score, f1_score\n",
        "from sklearn.model_selection import cross_val_score\n",
        "from sklearn.metrics import confusion_matrix\n",
        "from sklearn.metrics import roc_curve, auc\n",
        "from sklearn.model_selection import StratifiedKFold, cross_val_score\n",
        "from sklearn.metrics import make_scorer, f1_score\n",
        "import warnings\n",
        "warnings.filterwarnings(\"ignore\", category=FutureWarning)\n",
        "\n",
        "df = pd.read_csv(r'churn_data.csv')\n",
        "print(df.head())"
      ]
    },
    {
      "cell_type": "code",
      "execution_count": 11,
      "id": "aca670da",
      "metadata": {
        "execution": {
          "iopub.execute_input": "2025-09-25T00:41:23.470682Z",
          "iopub.status.busy": "2025-09-25T00:41:23.470281Z",
          "iopub.status.idle": "2025-09-25T00:41:23.491422Z",
          "shell.execute_reply": "2025-09-25T00:41:23.490194Z"
        },
        "papermill": {
          "duration": 0.028366,
          "end_time": "2025-09-25T00:41:23.493087",
          "exception": false,
          "start_time": "2025-09-25T00:41:23.464721",
          "status": "completed"
        },
        "tags": [],
        "colab": {
          "base_uri": "https://localhost:8080/"
        },
        "id": "aca670da",
        "outputId": "9ad2e3b9-2cc1-41fd-e0ef-24c8daa171a6"
      },
      "outputs": [
        {
          "output_type": "stream",
          "name": "stdout",
          "text": [
            "   Age  Gender  Tenure  MonthlyCharges    ContractType InternetService  \\\n",
            "0   49    Male       4           88.35  Month-to-Month     Fiber Optic   \n",
            "1   43    Male       0           36.67  Month-to-Month     Fiber Optic   \n",
            "2   51  Female       2           63.79  Month-to-Month     Fiber Optic   \n",
            "3   60  Female       8          102.34        One-Year             DSL   \n",
            "4   42    Male      32           69.01  Month-to-Month             NaN   \n",
            "\n",
            "  TechSupport Churn  \n",
            "0         Yes   Yes  \n",
            "1         Yes   Yes  \n",
            "2          No   Yes  \n",
            "3         Yes   Yes  \n",
            "4          No   Yes  \n"
          ]
        }
      ],
      "source": [
        "def drop_columns(df):\n",
        "    return df.drop(columns=[\"CustomerID\", \"TotalCharges\"], errors=\"ignore\")\n",
        "\n",
        "df = drop_columns(df)\n",
        "\n",
        "print(df.head())"
      ]
    },
    {
      "cell_type": "code",
      "execution_count": 12,
      "id": "132e029c",
      "metadata": {
        "execution": {
          "iopub.execute_input": "2025-09-25T00:41:23.503496Z",
          "iopub.status.busy": "2025-09-25T00:41:23.503134Z",
          "iopub.status.idle": "2025-09-25T00:41:23.526739Z",
          "shell.execute_reply": "2025-09-25T00:41:23.525379Z"
        },
        "papermill": {
          "duration": 0.030868,
          "end_time": "2025-09-25T00:41:23.528661",
          "exception": false,
          "start_time": "2025-09-25T00:41:23.497793",
          "status": "completed"
        },
        "tags": [],
        "colab": {
          "base_uri": "https://localhost:8080/"
        },
        "id": "132e029c",
        "outputId": "fb255349-6bcc-451d-b264-dcd1edb315cf"
      },
      "outputs": [
        {
          "output_type": "stream",
          "name": "stdout",
          "text": [
            "<class 'pandas.core.frame.DataFrame'>\n",
            "RangeIndex: 1000 entries, 0 to 999\n",
            "Data columns (total 8 columns):\n",
            " #   Column           Non-Null Count  Dtype  \n",
            "---  ------           --------------  -----  \n",
            " 0   Age              1000 non-null   int64  \n",
            " 1   Gender           1000 non-null   object \n",
            " 2   Tenure           1000 non-null   int64  \n",
            " 3   MonthlyCharges   1000 non-null   float64\n",
            " 4   ContractType     1000 non-null   object \n",
            " 5   InternetService  703 non-null    object \n",
            " 6   TechSupport      1000 non-null   object \n",
            " 7   Churn            1000 non-null   object \n",
            "dtypes: float64(1), int64(2), object(5)\n",
            "memory usage: 62.6+ KB\n",
            "None\n"
          ]
        }
      ],
      "source": [
        "print(df.info())"
      ]
    },
    {
      "cell_type": "code",
      "execution_count": 13,
      "id": "732821e0",
      "metadata": {
        "execution": {
          "iopub.execute_input": "2025-09-25T00:41:23.539121Z",
          "iopub.status.busy": "2025-09-25T00:41:23.538729Z",
          "iopub.status.idle": "2025-09-25T00:41:23.546196Z",
          "shell.execute_reply": "2025-09-25T00:41:23.545170Z"
        },
        "papermill": {
          "duration": 0.014485,
          "end_time": "2025-09-25T00:41:23.547703",
          "exception": false,
          "start_time": "2025-09-25T00:41:23.533218",
          "status": "completed"
        },
        "tags": [],
        "colab": {
          "base_uri": "https://localhost:8080/"
        },
        "id": "732821e0",
        "outputId": "663f2463-7dc0-43c9-95f6-5ec716146f74"
      },
      "outputs": [
        {
          "output_type": "stream",
          "name": "stdout",
          "text": [
            "Null values in each column:\n",
            "\n",
            "Age                  0\n",
            "Gender               0\n",
            "Tenure               0\n",
            "MonthlyCharges       0\n",
            "ContractType         0\n",
            "InternetService    297\n",
            "TechSupport          0\n",
            "Churn                0\n",
            "dtype: int64\n"
          ]
        }
      ],
      "source": [
        "def check_nulls(df):\n",
        " return df.isnull().sum()\n",
        "\n",
        "print(\"Null values in each column:\\n\")\n",
        "print(check_nulls(df))\n"
      ]
    },
    {
      "cell_type": "code",
      "execution_count": 14,
      "id": "c3c387c0",
      "metadata": {
        "execution": {
          "iopub.execute_input": "2025-09-25T00:41:23.558172Z",
          "iopub.status.busy": "2025-09-25T00:41:23.557814Z",
          "iopub.status.idle": "2025-09-25T00:41:23.565108Z",
          "shell.execute_reply": "2025-09-25T00:41:23.564205Z"
        },
        "papermill": {
          "duration": 0.014513,
          "end_time": "2025-09-25T00:41:23.567042",
          "exception": false,
          "start_time": "2025-09-25T00:41:23.552529",
          "status": "completed"
        },
        "tags": [],
        "id": "c3c387c0"
      },
      "outputs": [],
      "source": [
        "df.dropna(inplace=True)"
      ]
    },
    {
      "cell_type": "code",
      "execution_count": 15,
      "id": "f9787431",
      "metadata": {
        "execution": {
          "iopub.execute_input": "2025-09-25T00:41:23.577412Z",
          "iopub.status.busy": "2025-09-25T00:41:23.577024Z",
          "iopub.status.idle": "2025-09-25T00:41:23.584487Z",
          "shell.execute_reply": "2025-09-25T00:41:23.583174Z"
        },
        "papermill": {
          "duration": 0.01474,
          "end_time": "2025-09-25T00:41:23.586392",
          "exception": false,
          "start_time": "2025-09-25T00:41:23.571652",
          "status": "completed"
        },
        "tags": [],
        "colab": {
          "base_uri": "https://localhost:8080/"
        },
        "id": "f9787431",
        "outputId": "5c3112ba-0d72-4730-c579-92c7dec6d534"
      },
      "outputs": [
        {
          "output_type": "execute_result",
          "data": {
            "text/plain": [
              "(703, 8)"
            ]
          },
          "metadata": {},
          "execution_count": 15
        }
      ],
      "source": [
        "df.shape"
      ]
    },
    {
      "cell_type": "code",
      "execution_count": 16,
      "id": "d653c4e7",
      "metadata": {
        "execution": {
          "iopub.execute_input": "2025-09-25T00:41:23.597590Z",
          "iopub.status.busy": "2025-09-25T00:41:23.597188Z",
          "iopub.status.idle": "2025-09-25T00:41:23.610533Z",
          "shell.execute_reply": "2025-09-25T00:41:23.609121Z"
        },
        "papermill": {
          "duration": 0.021081,
          "end_time": "2025-09-25T00:41:23.612285",
          "exception": false,
          "start_time": "2025-09-25T00:41:23.591204",
          "status": "completed"
        },
        "tags": [],
        "colab": {
          "base_uri": "https://localhost:8080/"
        },
        "id": "d653c4e7",
        "outputId": "006aa06d-642d-4e90-c8fb-84649e0d7b50"
      },
      "outputs": [
        {
          "output_type": "stream",
          "name": "stdout",
          "text": [
            "=== Categorical Columns Summary ===\n",
            "\n",
            "Value Counts for Gender:\n",
            "Gender\n",
            "Female    381\n",
            "Male      322\n",
            "Name: count, dtype: int64\n",
            "\n",
            "Value Counts for ContractType:\n",
            "ContractType\n",
            "Month-to-Month    353\n",
            "One-Year          199\n",
            "Two-Year          151\n",
            "Name: count, dtype: int64\n",
            "\n",
            "Value Counts for InternetService:\n",
            "InternetService\n",
            "Fiber Optic    395\n",
            "DSL            308\n",
            "Name: count, dtype: int64\n",
            "\n",
            "Value Counts for TechSupport:\n",
            "TechSupport\n",
            "Yes    506\n",
            "No     197\n",
            "Name: count, dtype: int64\n",
            "\n",
            "Value Counts for Churn:\n",
            "Churn\n",
            "Yes    586\n",
            "No     117\n",
            "Name: count, dtype: int64\n"
          ]
        }
      ],
      "source": [
        "# Value counts for categorical columns\n",
        "\n",
        "def categorical_summary(df):\n",
        "    cat_cols = df.select_dtypes(include=[\"object\", \"category\"]).columns\n",
        "    for col in cat_cols:\n",
        "        print(f\"\\nValue Counts for {col}:\")\n",
        "        print(df[col].value_counts())\n",
        "\n",
        "\n",
        "print(\"=== Categorical Columns Summary ===\")\n",
        "categorical_summary(df)"
      ]
    },
    {
      "cell_type": "code",
      "execution_count": 17,
      "id": "6e0cc38e",
      "metadata": {
        "execution": {
          "iopub.execute_input": "2025-09-25T00:41:23.623916Z",
          "iopub.status.busy": "2025-09-25T00:41:23.623512Z",
          "iopub.status.idle": "2025-09-25T00:41:23.644630Z",
          "shell.execute_reply": "2025-09-25T00:41:23.643325Z"
        },
        "papermill": {
          "duration": 0.029178,
          "end_time": "2025-09-25T00:41:23.646337",
          "exception": false,
          "start_time": "2025-09-25T00:41:23.617159",
          "status": "completed"
        },
        "tags": [],
        "colab": {
          "base_uri": "https://localhost:8080/"
        },
        "id": "6e0cc38e",
        "outputId": "a15e0fa9-0b82-47b0-d514-5becbb6bcdd9"
      },
      "outputs": [
        {
          "output_type": "stream",
          "name": "stdout",
          "text": [
            "\n",
            "=== Numerical Columns Summary ===\n",
            "\n",
            "Numerical Columns Summary:\n",
            "\n",
            "              Age      Tenure  MonthlyCharges\n",
            "count  703.000000  703.000000      703.000000\n",
            "mean    44.516358   19.056899       73.802006\n",
            "std      9.875115   19.040358       26.037609\n",
            "min     12.000000    0.000000       30.000000\n",
            "25%     38.000000    5.000000       51.070000\n",
            "50%     45.000000   13.000000       73.560000\n",
            "75%     51.000000   27.000000       95.775000\n",
            "max     83.000000  122.000000      119.960000\n"
          ]
        }
      ],
      "source": [
        "# Summary statistics for numerical columns\n",
        "\n",
        "def numerical_summary(df):\n",
        "    print(\"\\nNumerical Columns Summary:\\n\")\n",
        "    print(df.describe())\n",
        "\n",
        "\n",
        "print(\"\\n=== Numerical Columns Summary ===\")\n",
        "numerical_summary(df)"
      ]
    },
    {
      "cell_type": "markdown",
      "id": "dc126ae2",
      "metadata": {
        "papermill": {
          "duration": 0.004287,
          "end_time": "2025-09-25T00:41:23.656544",
          "exception": false,
          "start_time": "2025-09-25T00:41:23.652257",
          "status": "completed"
        },
        "tags": [],
        "id": "dc126ae2"
      },
      "source": [
        "# EDA Insights for Churn"
      ]
    },
    {
      "cell_type": "code",
      "execution_count": 18,
      "id": "ce5d1820",
      "metadata": {
        "execution": {
          "iopub.execute_input": "2025-09-25T00:41:23.666905Z",
          "iopub.status.busy": "2025-09-25T00:41:23.666535Z",
          "iopub.status.idle": "2025-09-25T00:41:23.676472Z",
          "shell.execute_reply": "2025-09-25T00:41:23.675302Z"
        },
        "papermill": {
          "duration": 0.017091,
          "end_time": "2025-09-25T00:41:23.678151",
          "exception": false,
          "start_time": "2025-09-25T00:41:23.661060",
          "status": "completed"
        },
        "tags": [],
        "colab": {
          "base_uri": "https://localhost:8080/"
        },
        "id": "ce5d1820",
        "outputId": "626a5bed-ff05-401a-938a-06d2c60fb33b"
      },
      "outputs": [
        {
          "output_type": "stream",
          "name": "stdout",
          "text": [
            "\n",
            "Encoded:\n",
            "Churn\n",
            "1    586\n",
            "0    117\n",
            "Name: count, dtype: int64\n"
          ]
        }
      ],
      "source": [
        "# Encode categorical target column 'Churn'\n",
        "\n",
        "def encode_churn(df):\n",
        "    if 'Churn' in df.columns:\n",
        "         # Map Yes/No to 1/0\n",
        "        df['Churn'] = df['Churn'].map({'Yes': 1, 'No': 0})\n",
        "\n",
        "        print(\"\\nEncoded:\")\n",
        "    print(df['Churn'].value_counts())\n",
        "\n",
        "# Run encoding\n",
        "encode_churn(df)"
      ]
    },
    {
      "cell_type": "code",
      "execution_count": 19,
      "id": "75717852",
      "metadata": {
        "execution": {
          "iopub.execute_input": "2025-09-25T00:41:23.688915Z",
          "iopub.status.busy": "2025-09-25T00:41:23.688589Z",
          "iopub.status.idle": "2025-09-25T00:41:24.120614Z",
          "shell.execute_reply": "2025-09-25T00:41:24.119581Z"
        },
        "papermill": {
          "duration": 0.439368,
          "end_time": "2025-09-25T00:41:24.122267",
          "exception": false,
          "start_time": "2025-09-25T00:41:23.682899",
          "status": "completed"
        },
        "tags": [],
        "colab": {
          "base_uri": "https://localhost:8080/",
          "height": 487
        },
        "id": "75717852",
        "outputId": "0ee4ba7c-bba5-4d66-e79b-4387c896d0bd"
      },
      "outputs": [
        {
          "output_type": "display_data",
          "data": {
            "text/plain": [
              "<Figure size 800x500 with 1 Axes>"
            ],
            "image/png": "[encoded data removed]"
          },
          "metadata": {}
        }
      ],
      "source": [
        "# Age Distribution\n",
        "\n",
        "def plot_age_distribution(df, target=\"Churn\"):\n",
        "    if \"Age\" not in df.columns or target not in df.columns:\n",
        "        print(\"Required columns not found in DataFrame.\")\n",
        "        return\n",
        "\n",
        "    plt.figure(figsize=(8,5))\n",
        "    sns.kdeplot(df[df[target] == 0][\"Age\"], label=\"Non-Churned\", shade=True)\n",
        "    sns.kdeplot(df[df[target] == 1][\"Age\"], label=\"Churned\", shade=True)\n",
        "\n",
        "    plt.title(\"Age Distribution: Churned vs Non-Churned Customers\")\n",
        "    plt.xlabel(\"Age\")\n",
        "    plt.ylabel(\"Density\")\n",
        "    plt.legend()\n",
        "    plt.show()\n",
        "\n",
        "# Example usage\n",
        "plot_age_distribution(df, target=\"Churn\")"
      ]
    },
    {
      "cell_type": "code",
      "execution_count": 20,
      "id": "6769c72e",
      "metadata": {
        "execution": {
          "iopub.execute_input": "2025-09-25T00:41:24.135839Z",
          "iopub.status.busy": "2025-09-25T00:41:24.135465Z",
          "iopub.status.idle": "2025-09-25T00:41:24.320056Z",
          "shell.execute_reply": "2025-09-25T00:41:24.319005Z"
        },
        "papermill": {
          "duration": 0.193148,
          "end_time": "2025-09-25T00:41:24.321662",
          "exception": false,
          "start_time": "2025-09-25T00:41:24.128514",
          "status": "completed"
        },
        "tags": [],
        "colab": {
          "base_uri": "https://localhost:8080/",
          "height": 487
        },
        "id": "6769c72e",
        "outputId": "2eecf575-e6f5-4296-c38e-85ceac296ad3"
      },
      "outputs": [
        {
          "output_type": "display_data",
          "data": {
            "text/plain": [
              "<Figure size 800x500 with 1 Axes>"
            ],
            "image/png": "[encoded data removed]"
          },
          "metadata": {}
        }
      ],
      "source": [
        "# Churn Distribution by Gender\n",
        "\n",
        "def plot_gender_churn(df, target=\"Churn\"):\n",
        "    if \"Gender\" not in df.columns or target not in df.columns:\n",
        "        print(\"Required columns not found in DataFrame.\")\n",
        "        return\n",
        "\n",
        "    plt.figure(figsize=(8,5))\n",
        "    sns.countplot(x=\"Gender\", hue=target, data=df, palette=\"Set2\")\n",
        "\n",
        "    plt.title(\"Churn Distribution by Gender\")\n",
        "    plt.xlabel(\"Gender\")\n",
        "    plt.ylabel(\"Number of Customers\")\n",
        "    plt.legend(title=\"Churn\", labels=[\"No\", \"Yes\"])\n",
        "    plt.show()\n",
        "\n",
        "# Example usage\n",
        "plot_gender_churn(df, target=\"Churn\")"
      ]
    },
    {
      "cell_type": "code",
      "execution_count": 21,
      "id": "1c769c82",
      "metadata": {
        "execution": {
          "iopub.execute_input": "2025-09-25T00:41:24.336899Z",
          "iopub.status.busy": "2025-09-25T00:41:24.336495Z",
          "iopub.status.idle": "2025-09-25T00:41:24.525585Z",
          "shell.execute_reply": "2025-09-25T00:41:24.524150Z"
        },
        "papermill": {
          "duration": 0.1987,
          "end_time": "2025-09-25T00:41:24.527604",
          "exception": false,
          "start_time": "2025-09-25T00:41:24.328904",
          "status": "completed"
        },
        "tags": [],
        "colab": {
          "base_uri": "https://localhost:8080/",
          "height": 487
        },
        "id": "1c769c82",
        "outputId": "7c03c9a3-43e5-43d8-967d-00d5e4c53b48"
      },
      "outputs": [
        {
          "output_type": "display_data",
          "data": {
            "text/plain": [
              "<Figure size 800x500 with 1 Axes>"
            ],
            "image/png": "[encoded data removed]"
          },
          "metadata": {}
        }
      ],
      "source": [
        "# Churn Distribution by InternetService\n",
        "\n",
        "def plot_InternetService_churn(df, target=\"Churn\"):\n",
        "    if \"InternetService\" not in df.columns or target not in df.columns:\n",
        "        print(\"Required columns not found in DataFrame.\")\n",
        "        return\n",
        "\n",
        "    plt.figure(figsize=(8,5))\n",
        "    sns.countplot(x=\"InternetService\", hue=target, data=df, palette=\"Set2\")\n",
        "\n",
        "    plt.title(\"Churn Distribution by InternetService\")\n",
        "    plt.xlabel(\"InternetService\")\n",
        "    plt.ylabel(\"Number of Customers\")\n",
        "    plt.legend(title=\"Churn\", labels=[\"No\", \"Yes\"])\n",
        "    plt.show()\n",
        "\n",
        "# Example usage\n",
        "plot_InternetService_churn(df, target=\"Churn\")"
      ]
    },
    {
      "cell_type": "code",
      "execution_count": 22,
      "id": "d52037ff",
      "metadata": {
        "execution": {
          "iopub.execute_input": "2025-09-25T00:41:24.546592Z",
          "iopub.status.busy": "2025-09-25T00:41:24.546229Z",
          "iopub.status.idle": "2025-09-25T00:41:24.774408Z",
          "shell.execute_reply": "2025-09-25T00:41:24.773294Z"
        },
        "papermill": {
          "duration": 0.239085,
          "end_time": "2025-09-25T00:41:24.776190",
          "exception": false,
          "start_time": "2025-09-25T00:41:24.537105",
          "status": "completed"
        },
        "tags": [],
        "colab": {
          "base_uri": "https://localhost:8080/",
          "height": 487
        },
        "id": "d52037ff",
        "outputId": "e4d81911-fd8c-4c45-b46c-7d8413380aa4"
      },
      "outputs": [
        {
          "output_type": "display_data",
          "data": {
            "text/plain": [
              "<Figure size 800x500 with 1 Axes>"
            ],
            "image/png": "[encoded data removed]"
          },
          "metadata": {}
        }
      ],
      "source": [
        "# Churn Distribution by ContractType\n",
        "\n",
        "def plot_ContractType_churn(df, target=\"Churn\"):\n",
        "    if \"ContractType\" not in df.columns or target not in df.columns:\n",
        "        print(\"Required columns not found in DataFrame.\")\n",
        "        return\n",
        "\n",
        "    plt.figure(figsize=(8,5))\n",
        "    sns.countplot(x=\"ContractType\", hue=target, data=df, palette=\"Set1\")\n",
        "\n",
        "    plt.title(\"Churn Distribution by ContractType\")\n",
        "    plt.xlabel(\"ContractType\")\n",
        "    plt.ylabel(\"Number of Customers\")\n",
        "    plt.legend(title=\"Churn\", labels=[\"No\", \"Yes\"])\n",
        "    plt.show()\n",
        "\n",
        "# Example usage\n",
        "plot_ContractType_churn(df, target=\"Churn\")"
      ]
    },
    {
      "cell_type": "markdown",
      "id": "1a9db085",
      "metadata": {
        "papermill": {
          "duration": 0.008991,
          "end_time": "2025-09-25T00:41:24.795161",
          "exception": false,
          "start_time": "2025-09-25T00:41:24.786170",
          "status": "completed"
        },
        "tags": [],
        "id": "1a9db085"
      },
      "source": [
        "# Preprocessing"
      ]
    },
    {
      "cell_type": "code",
      "execution_count": 23,
      "id": "4b93f027",
      "metadata": {
        "execution": {
          "iopub.execute_input": "2025-09-25T00:41:24.814712Z",
          "iopub.status.busy": "2025-09-25T00:41:24.814358Z",
          "iopub.status.idle": "2025-09-25T00:41:24.956662Z",
          "shell.execute_reply": "2025-09-25T00:41:24.955611Z"
        },
        "papermill": {
          "duration": 0.154335,
          "end_time": "2025-09-25T00:41:24.958526",
          "exception": false,
          "start_time": "2025-09-25T00:41:24.804191",
          "status": "completed"
        },
        "tags": [],
        "colab": {
          "base_uri": "https://localhost:8080/",
          "height": 410
        },
        "id": "4b93f027",
        "outputId": "21206777-f576-4587-ed11-f60efa674cf2"
      },
      "outputs": [
        {
          "output_type": "display_data",
          "data": {
            "text/plain": [
              "<Figure size 600x400 with 1 Axes>"
            ],
            "image/png": "[encoded data removed]"
          },
          "metadata": {}
        }
      ],
      "source": [
        "def plot_churn_distribution(df, target=\"Churn\"):\n",
        "    if target not in df.columns:\n",
        "        print(f\"Target column '{target}' not found in DataFrame.\")\n",
        "        return\n",
        "\n",
        "    plt.figure(figsize=(6,4))\n",
        "    sns.countplot(x=target, data=df, palette=\"Set2\")\n",
        "    plt.title(\"Churned vs Non-Churned Customers\")\n",
        "    plt.xlabel(\"Exited (0 = No, 1 = Yes)\")\n",
        "    plt.ylabel(\"Count\")\n",
        "    plt.show()\n",
        "\n",
        "plot_churn_distribution(df, target=\"Churn\")"
      ]
    },
    {
      "cell_type": "markdown",
      "id": "0665f173",
      "metadata": {
        "papermill": {
          "duration": 0.008438,
          "end_time": "2025-09-25T00:41:24.975840",
          "exception": false,
          "start_time": "2025-09-25T00:41:24.967402",
          "status": "completed"
        },
        "tags": [],
        "id": "0665f173"
      },
      "source": [
        "# ML Model Training"
      ]
    },
    {
      "cell_type": "code",
      "execution_count": 24,
      "id": "a9d4452f",
      "metadata": {
        "execution": {
          "iopub.execute_input": "2025-09-25T00:41:24.994273Z",
          "iopub.status.busy": "2025-09-25T00:41:24.993943Z",
          "iopub.status.idle": "2025-09-25T00:41:25.048665Z",
          "shell.execute_reply": "2025-09-25T00:41:25.047439Z"
        },
        "papermill": {
          "duration": 0.066057,
          "end_time": "2025-09-25T00:41:25.050381",
          "exception": false,
          "start_time": "2025-09-25T00:41:24.984324",
          "status": "completed"
        },
        "tags": [],
        "colab": {
          "base_uri": "https://localhost:8080/"
        },
        "id": "a9d4452f",
        "outputId": "85102c27-f63f-4a64-d359-2e1b1c45e77e"
      },
      "outputs": [
        {
          "output_type": "stream",
          "name": "stdout",
          "text": [
            "Train shape: (528, 8)  Test shape: (132, 8)\n",
            "Train set class distribution:\n",
            " Churn\n",
            "1    442\n",
            "0     86\n",
            "Name: count, dtype: int64\n",
            "\n",
            "Test set class distribution:\n",
            " Churn\n",
            "1    110\n",
            "0     22\n",
            "Name: count, dtype: int64\n"
          ]
        }
      ],
      "source": [
        "from sklearn.impute import SimpleImputer\n",
        "\n",
        "\n",
        "def remove_outliers(df, cols=None, factor=1.5):\n",
        "    df = df.copy()\n",
        "    if cols is None:\n",
        "        # exclude binary (0/1) dummies\n",
        "        cols = [c for c in df.select_dtypes(include=np.number).columns if df[c].nunique() > 2]\n",
        "    for col in cols:\n",
        "        Q1 = df[col].quantile(0.25)\n",
        "        Q3 = df[col].quantile(0.75)\n",
        "        IQR = Q3 - Q1\n",
        "        lower = Q1 - factor * IQR\n",
        "        upper = Q3 + factor * IQR\n",
        "        df = df[(df[col] >= lower) & (df[col] <= upper)]\n",
        "    return df.reset_index(drop=True)\n",
        "\n",
        "\n",
        "def impute_missing(df):\n",
        "    df = df.copy()\n",
        "    num_cols = df.select_dtypes(include=[\"int64\", \"float64\"]).columns\n",
        "    cat_cols = df.select_dtypes(include=[\"object\", \"category\", \"bool\"]).columns\n",
        "\n",
        "    # Numeric → median\n",
        "    for col in num_cols:\n",
        "        df[col] = df[col].fillna(df[col].median())\n",
        "\n",
        "    # Categorical → most frequent\n",
        "    for col in cat_cols:\n",
        "        df[col] = df[col].fillna(df[col].mode()[0])\n",
        "\n",
        "    return df\n",
        "\n",
        "\n",
        "def encode_categoricals(df, drop_first=True):\n",
        "    df = pd.get_dummies(df, drop_first=drop_first)\n",
        "    return df\n",
        "\n",
        "\n",
        "def scale_numericals(df, scaler=None):\n",
        "    df = df.copy()\n",
        "    num_cols = df.select_dtypes(include=[\"int64\", \"float64\"]).columns\n",
        "    if scaler is None:\n",
        "        scaler = StandardScaler()\n",
        "        df[num_cols] = scaler.fit_transform(df[num_cols])\n",
        "        return df, scaler\n",
        "    else:\n",
        "        df[num_cols] = scaler.transform(df[num_cols])\n",
        "        return df, scaler\n",
        "\n",
        "\n",
        "# Full preprocessing pipeline\n",
        "\n",
        "def preprocessing_pipeline(df, target=\"Churn\", test_size=0.2, random_state=42):\n",
        "\n",
        "    # Remove outliers\n",
        "    df = remove_outliers(df)\n",
        "\n",
        "    # Impute missing values\n",
        "    df = impute_missing(df)\n",
        "\n",
        "    # Train-test split\n",
        "    X = df.drop(columns=[\"Churn\"])\n",
        "    y = df[\"Churn\"]\n",
        "    X_train, X_test, y_train, y_test = train_test_split(\n",
        "    X, y,\n",
        "    test_size=0.2,\n",
        "    random_state=42,\n",
        "    stratify=y\n",
        ")\n",
        "\n",
        "    X_train = encode_categoricals(X_train, drop_first=True)\n",
        "    X_test = pd.get_dummies(X_test, drop_first=True)\n",
        "\n",
        "    X_test = X_test.reindex(columns=X_train.columns, fill_value=0)\n",
        "\n",
        "\n",
        "    X_train, scaler = scale_numericals(X_train)\n",
        "    X_test, _ = scale_numericals(X_test, scaler=scaler)\n",
        "\n",
        "    return X_train, X_test, y_train, y_test\n",
        "\n",
        "\n",
        "X_train, X_test, y_train, y_test = preprocessing_pipeline(df)\n",
        "print(\"Train shape:\", X_train.shape, \" Test shape:\", X_test.shape)\n",
        "print(\"Train set class distribution:\\n\", y_train.value_counts())\n",
        "print(\"\\nTest set class distribution:\\n\", y_test.value_counts())"
      ]
    },
    {
      "cell_type": "code",
      "execution_count": 25,
      "id": "88e02ec3",
      "metadata": {
        "execution": {
          "iopub.execute_input": "2025-09-25T00:41:25.070481Z",
          "iopub.status.busy": "2025-09-25T00:41:25.069511Z",
          "iopub.status.idle": "2025-09-25T00:41:25.685930Z",
          "shell.execute_reply": "2025-09-25T00:41:25.685281Z"
        },
        "papermill": {
          "duration": 0.629051,
          "end_time": "2025-09-25T00:41:25.688431",
          "exception": false,
          "start_time": "2025-09-25T00:41:25.059380",
          "status": "completed"
        },
        "tags": [],
        "colab": {
          "base_uri": "https://localhost:8080/"
        },
        "id": "88e02ec3",
        "outputId": "d855fba5-7b48-4363-8187-88b378d7ea63"
      },
      "outputs": [
        {
          "output_type": "stream",
          "name": "stdout",
          "text": [
            "📌 Logistic Regression Results:\n",
            "Accuracy: 0.8863636363636364\n",
            "ROC-AUC: 0.9318181818181819\n",
            "              precision    recall  f1-score   support\n",
            "\n",
            "           0       0.59      1.00      0.75        22\n",
            "           1       1.00      0.86      0.93       110\n",
            "\n",
            "    accuracy                           0.89       132\n",
            "   macro avg       0.80      0.93      0.84       132\n",
            "weighted avg       0.93      0.89      0.90       132\n",
            "\n",
            "Confusion Matrix:\n",
            " [[22  0]\n",
            " [15 95]]\n",
            "\n",
            "📌 Random Forest Results:\n",
            "Accuracy: 1.0\n",
            "ROC-AUC: 1.0\n",
            "              precision    recall  f1-score   support\n",
            "\n",
            "           0       1.00      1.00      1.00        22\n",
            "           1       1.00      1.00      1.00       110\n",
            "\n",
            "    accuracy                           1.00       132\n",
            "   macro avg       1.00      1.00      1.00       132\n",
            "weighted avg       1.00      1.00      1.00       132\n",
            "\n",
            "Confusion Matrix:\n",
            " [[ 22   0]\n",
            " [  0 110]]\n",
            "\n",
            "📌 Decision Tree Results:\n",
            "Accuracy: 1.0\n",
            "ROC-AUC: 1.0\n",
            "              precision    recall  f1-score   support\n",
            "\n",
            "           0       1.00      1.00      1.00        22\n",
            "           1       1.00      1.00      1.00       110\n",
            "\n",
            "    accuracy                           1.00       132\n",
            "   macro avg       1.00      1.00      1.00       132\n",
            "weighted avg       1.00      1.00      1.00       132\n",
            "\n",
            "Confusion Matrix:\n",
            " [[ 22   0]\n",
            " [  0 110]]\n",
            "\n",
            "📌 XGBoost Results:\n",
            "Accuracy: 1.0\n",
            "ROC-AUC: 1.0\n",
            "              precision    recall  f1-score   support\n",
            "\n",
            "           0       1.00      1.00      1.00        22\n",
            "           1       1.00      1.00      1.00       110\n",
            "\n",
            "    accuracy                           1.00       132\n",
            "   macro avg       1.00      1.00      1.00       132\n",
            "weighted avg       1.00      1.00      1.00       132\n",
            "\n",
            "Confusion Matrix:\n",
            " [[ 22   0]\n",
            " [  0 110]]\n"
          ]
        },
        {
          "output_type": "stream",
          "name": "stderr",
          "text": [
            "/usr/local/lib/python3.12/dist-packages/xgboost/training.py:183: UserWarning: [06:20:27] WARNING: /workspace/src/learner.cc:738: \n",
            "Parameters: { \"use_label_encoder\" } are not used.\n",
            "\n",
            "  bst.update(dtrain, iteration=i, fobj=obj)\n"
          ]
        }
      ],
      "source": [
        "from sklearn.linear_model import LogisticRegression\n",
        "from sklearn.ensemble import RandomForestClassifier\n",
        "from sklearn.tree import DecisionTreeClassifier\n",
        "from xgboost import XGBClassifier\n",
        "from sklearn.metrics import accuracy_score, classification_report, confusion_matrix, roc_auc_score\n",
        "\n",
        "# ================================\n",
        "# Logistic Regression\n",
        "# ================================\n",
        "log_reg = LogisticRegression(max_iter=1000, random_state=42, class_weight=\"balanced\")\n",
        "log_reg.fit(X_train, y_train)\n",
        "y_pred_lr = log_reg.predict(X_test)\n",
        "\n",
        "print(\"📌 Logistic Regression Results:\")\n",
        "print(\"Accuracy:\", accuracy_score(y_test, y_pred_lr))\n",
        "print(\"ROC-AUC:\", roc_auc_score(y_test, y_pred_lr))\n",
        "print(classification_report(y_test, y_pred_lr))\n",
        "print(\"Confusion Matrix:\\n\", confusion_matrix(y_test, y_pred_lr))\n",
        "\n",
        "\n",
        "# Random Forest\n",
        "\n",
        "rf = RandomForestClassifier(\n",
        "    n_estimators=200,\n",
        "    max_depth=10,\n",
        "    random_state=42,\n",
        "    class_weight=\"balanced\"\n",
        ")\n",
        "rf.fit(X_train, y_train)\n",
        "y_pred_rf = rf.predict(X_test)\n",
        "\n",
        "print(\"\\n📌 Random Forest Results:\")\n",
        "print(\"Accuracy:\", accuracy_score(y_test, y_pred_rf))\n",
        "print(\"ROC-AUC:\", roc_auc_score(y_test, y_pred_rf))\n",
        "print(classification_report(y_test, y_pred_rf))\n",
        "print(\"Confusion Matrix:\\n\", confusion_matrix(y_test, y_pred_rf))\n",
        "\n",
        "\n",
        "# Decision Tree\n",
        "\n",
        "dt = DecisionTreeClassifier(max_depth=10, random_state=42, class_weight=\"balanced\")\n",
        "dt.fit(X_train, y_train)\n",
        "y_pred_dt = dt.predict(X_test)\n",
        "\n",
        "print(\"\\n📌 Decision Tree Results:\")\n",
        "print(\"Accuracy:\", accuracy_score(y_test, y_pred_dt))\n",
        "print(\"ROC-AUC:\", roc_auc_score(y_test, y_pred_dt))\n",
        "print(classification_report(y_test, y_pred_dt))\n",
        "print(\"Confusion Matrix:\\n\", confusion_matrix(y_test, y_pred_dt))\n",
        "\n",
        "# ================================\n",
        "# XGBoost\n",
        "scale_pos_weight = y_train.value_counts()[0] / y_train.value_counts()[1]\n",
        "\n",
        "xgb = XGBClassifier(\n",
        "    n_estimators=200,\n",
        "    max_depth=6,\n",
        "    learning_rate=0.1,\n",
        "    random_state=42,\n",
        "    scale_pos_weight=scale_pos_weight,\n",
        "    use_label_encoder=False,\n",
        "    eval_metric=\"logloss\"\n",
        ")\n",
        "xgb.fit(X_train, y_train)\n",
        "y_pred_xgb = xgb.predict(X_test)\n",
        "\n",
        "print(\"\\n📌 XGBoost Results:\")\n",
        "print(\"Accuracy:\", accuracy_score(y_test, y_pred_xgb))\n",
        "print(\"ROC-AUC:\", roc_auc_score(y_test, y_pred_xgb))\n",
        "print(classification_report(y_test, y_pred_xgb))\n",
        "print(\"Confusion Matrix:\\n\", confusion_matrix(y_test, y_pred_xgb))\n"
      ]
    },
    {
      "cell_type": "code",
      "execution_count": 26,
      "id": "7d8ce4ff",
      "metadata": {
        "execution": {
          "iopub.execute_input": "2025-09-25T00:41:25.710615Z",
          "iopub.status.busy": "2025-09-25T00:41:25.710262Z",
          "iopub.status.idle": "2025-09-25T00:41:25.890997Z",
          "shell.execute_reply": "2025-09-25T00:41:25.890073Z"
        },
        "papermill": {
          "duration": 0.194089,
          "end_time": "2025-09-25T00:41:25.892722",
          "exception": false,
          "start_time": "2025-09-25T00:41:25.698633",
          "status": "completed"
        },
        "tags": [],
        "colab": {
          "base_uri": "https://localhost:8080/",
          "height": 452
        },
        "id": "7d8ce4ff",
        "outputId": "2d354b31-7b36-4dc6-851f-33cf8e9ca3ef"
      },
      "outputs": [
        {
          "output_type": "display_data",
          "data": {
            "text/plain": [
              "<Figure size 640x480 with 1 Axes>"
            ],
            "image/png": "[encoded data removed]"
          },
          "metadata": {}
        }
      ],
      "source": [
        "importances = rf.feature_importances_\n",
        "features = X_train.columns\n",
        "sorted_idx = importances.argsort()\n",
        "plt.barh(features[sorted_idx], importances[sorted_idx])\n",
        "plt.title(\"Random Forest Feature Importances\")\n",
        "plt.show()"
      ]
    },
    {
      "cell_type": "code",
      "execution_count": 27,
      "id": "393acb01",
      "metadata": {
        "execution": {
          "iopub.execute_input": "2025-09-25T00:41:25.913659Z",
          "iopub.status.busy": "2025-09-25T00:41:25.913351Z",
          "iopub.status.idle": "2025-09-25T00:41:26.095445Z",
          "shell.execute_reply": "2025-09-25T00:41:26.094479Z"
        },
        "papermill": {
          "duration": 0.194529,
          "end_time": "2025-09-25T00:41:26.097038",
          "exception": false,
          "start_time": "2025-09-25T00:41:25.902509",
          "status": "completed"
        },
        "tags": [],
        "colab": {
          "base_uri": "https://localhost:8080/",
          "height": 452
        },
        "id": "393acb01",
        "outputId": "2709c35d-6b56-49dd-b234-fd94b6de97c6"
      },
      "outputs": [
        {
          "output_type": "display_data",
          "data": {
            "text/plain": [
              "<Figure size 640x480 with 1 Axes>"
            ],
            "image/png": "[encoded data removed]"
          },
          "metadata": {}
        }
      ],
      "source": [
        "importances = xgb.feature_importances_\n",
        "features = X_train.columns\n",
        "sorted_idx = importances.argsort()\n",
        "plt.barh(features[sorted_idx], importances[sorted_idx])\n",
        "plt.title(\"XGB Feature Importances\")\n",
        "plt.show()"
      ]
    },
    {
      "cell_type": "code",
      "source": [
        "log_reg = LogisticRegression(max_iter=1000, random_state=42, class_weight=\"balanced\")\n",
        "dt = DecisionTreeClassifier(max_depth=10, random_state=42, class_weight=\"balanced\")\n",
        "rf = RandomForestClassifier(n_estimators=200, max_depth=10, random_state=42, class_weight=\"balanced\")\n",
        "\n",
        "# Calculate scale_pos_weight for XGBoost\n",
        "scale_pos_weight = y_train.value_counts()[0] / y_train.value_counts()[1]\n",
        "xgb = XGBClassifier(\n",
        "    n_estimators=200,\n",
        "    max_depth=6,\n",
        "    learning_rate=0.1,\n",
        "    random_state=42,\n",
        "    scale_pos_weight=scale_pos_weight,\n",
        "    use_label_encoder=False,\n",
        "    eval_metric=\"logloss\"\n",
        ")\n",
        "\n",
        "# --- Create a list of all models to evaluate ---\n",
        "models = [log_reg, dt, rf, xgb]\n",
        "model_names = [\"Logistic Regression\", \"Decision Tree\", \"Random Forest\", \"XGBoost\"]\n",
        "\n",
        "# --- Loop through and perform cross-validation ---\n",
        "print(\"--- Running 5-Fold Cross-Validation ---\")\n",
        "\n",
        "for model, name in zip(models, model_names):\n",
        "    cv_scores = cross_val_score(model, X_train, y_train, cv=5, scoring='roc_auc')\n",
        "    print(f\"\\n📌 {name}:\")\n",
        "    print(f\"   Fold Scores: {cv_scores}\")\n",
        "    print(f\"   Mean CV ROC-AUC: {np.mean(cv_scores):.4f}\")\n",
        "    print(f\"   Std Dev of Scores: {np.std(cv_scores):.4f}\")\n",
        "\n",
        "print(\"\\n--- End of Cross-Validation ---\")"
      ],
      "metadata": {
        "colab": {
          "base_uri": "https://localhost:8080/"
        },
        "id": "SuhKEXkUqPDX",
        "outputId": "429702cb-aef9-451b-afe9-c6061adb2905"
      },
      "id": "SuhKEXkUqPDX",
      "execution_count": 31,
      "outputs": [
        {
          "output_type": "stream",
          "name": "stdout",
          "text": [
            "--- Running 5-Fold Cross-Validation ---\n",
            "\n",
            "📌 Logistic Regression:\n",
            "   Fold Scores: [0.98017184 0.96959683 0.96780303 0.96858289 0.97259358]\n",
            "   Mean CV ROC-AUC: 0.9717\n",
            "   Std Dev of Scores: 0.0045\n",
            "\n",
            "📌 Decision Tree:\n",
            "   Fold Scores: [1.         1.         1.         1.         0.91176471]\n",
            "   Mean CV ROC-AUC: 0.9824\n",
            "   Std Dev of Scores: 0.0353\n",
            "\n",
            "📌 Random Forest:\n",
            "   Fold Scores: [1. 1. 1. 1. 1.]\n",
            "   Mean CV ROC-AUC: 1.0000\n",
            "   Std Dev of Scores: 0.0000\n"
          ]
        },
        {
          "output_type": "stream",
          "name": "stderr",
          "text": [
            "/usr/local/lib/python3.12/dist-packages/xgboost/training.py:183: UserWarning: [06:40:21] WARNING: /workspace/src/learner.cc:738: \n",
            "Parameters: { \"use_label_encoder\" } are not used.\n",
            "\n",
            "  bst.update(dtrain, iteration=i, fobj=obj)\n",
            "/usr/local/lib/python3.12/dist-packages/xgboost/training.py:183: UserWarning: [06:40:21] WARNING: /workspace/src/learner.cc:738: \n",
            "Parameters: { \"use_label_encoder\" } are not used.\n",
            "\n",
            "  bst.update(dtrain, iteration=i, fobj=obj)\n",
            "/usr/local/lib/python3.12/dist-packages/xgboost/training.py:183: UserWarning: [06:40:21] WARNING: /workspace/src/learner.cc:738: \n",
            "Parameters: { \"use_label_encoder\" } are not used.\n",
            "\n",
            "  bst.update(dtrain, iteration=i, fobj=obj)\n",
            "/usr/local/lib/python3.12/dist-packages/xgboost/training.py:183: UserWarning: [06:40:21] WARNING: /workspace/src/learner.cc:738: \n",
            "Parameters: { \"use_label_encoder\" } are not used.\n",
            "\n",
            "  bst.update(dtrain, iteration=i, fobj=obj)\n"
          ]
        },
        {
          "output_type": "stream",
          "name": "stdout",
          "text": [
            "\n",
            "📌 XGBoost:\n",
            "   Fold Scores: [1. 1. 1. 1. 1.]\n",
            "   Mean CV ROC-AUC: 1.0000\n",
            "   Std Dev of Scores: 0.0000\n",
            "\n",
            "--- End of Cross-Validation ---\n"
          ]
        },
        {
          "output_type": "stream",
          "name": "stderr",
          "text": [
            "/usr/local/lib/python3.12/dist-packages/xgboost/training.py:183: UserWarning: [06:40:22] WARNING: /workspace/src/learner.cc:738: \n",
            "Parameters: { \"use_label_encoder\" } are not used.\n",
            "\n",
            "  bst.update(dtrain, iteration=i, fobj=obj)\n"
          ]
        }
      ]
    },
    {
      "cell_type": "code",
      "source": [
        "regularized_model = RandomForestClassifier(\n",
        "    n_estimators=100,\n",
        "    max_depth=7,\n",
        "    min_samples_split = 10,\n",
        "    min_samples_leaf = 5,\n",
        "    bootstrap = True,\n",
        "    random_state=42,\n",
        "    class_weight=\"balanced\"\n",
        ")\n",
        "\n",
        "regularized_model.fit(X_train, y_train)\n",
        "y_pred_final = regularized_model.predict(X_test)\n",
        "\n",
        "\n",
        "print(f\"\\n Regularized Random Forest Performance on X_test:\")\n",
        "print(f\"   Accuracy on Test Set: {accuracy_score(y_test, y_pred_final):.4f}\")\n",
        "\n",
        "print(\"\\n   Classification Report:\")\n",
        "print(classification_report(y_test, y_pred_final))\n",
        "\n",
        "print(\"   Confusion Matrix:\")\n",
        "print(confusion_matrix(y_test, y_pred_final))"
      ],
      "metadata": {
        "colab": {
          "base_uri": "https://localhost:8080/"
        },
        "id": "D8-WcpTZqgBB",
        "outputId": "765e79c9-c98d-4dea-c960-1828f8f262d0"
      },
      "id": "D8-WcpTZqgBB",
      "execution_count": 34,
      "outputs": [
        {
          "output_type": "stream",
          "name": "stdout",
          "text": [
            "\n",
            " Final Random Forest Performance on X_test:\n",
            "   Accuracy on Test Set: 1.0000\n",
            "\n",
            "   Classification Report:\n",
            "              precision    recall  f1-score   support\n",
            "\n",
            "           0       1.00      1.00      1.00        22\n",
            "           1       1.00      1.00      1.00       110\n",
            "\n",
            "    accuracy                           1.00       132\n",
            "   macro avg       1.00      1.00      1.00       132\n",
            "weighted avg       1.00      1.00      1.00       132\n",
            "\n",
            "   Confusion Matrix:\n",
            "[[ 22   0]\n",
            " [  0 110]]\n"
          ]
        }
      ]
    },
    {
      "cell_type": "code",
      "source": [],
      "metadata": {
        "id": "bWIrZ_bYyxoc"
      },
      "id": "bWIrZ_bYyxoc",
      "execution_count": null,
      "outputs": []
    }
  ],
  "metadata": {
    "kaggle": {
      "accelerator": "none",
      "dataSources": [
        {
          "datasetId": 5698151,
          "sourceId": 9390301,
          "sourceType": "datasetVersion"
        }
      ],
      "dockerImageVersionId": 31089,
      "isGpuEnabled": false,
      "isInternetEnabled": true,
      "language": "python",
      "sourceType": "notebook"
    },
    "kernelspec": {
      "display_name": "Python 3",
      "language": "python",
      "name": "python3"
    },
    "language_info": {
      "codemirror_mode": {
        "name": "ipython",
        "version": 3
      },
      "file_extension": ".py",
      "mimetype": "text/x-python",
      "name": "python",
      "nbconvert_exporter": "python",
      "pygments_lexer": "ipython3",
      "version": "3.11.13"
    },
    "papermill": {
      "default_parameters": {},
      "duration": 15.374741,
      "end_time": "2025-09-25T00:41:26.929461",
      "environment_variables": {},
      "exception": null,
      "input_path": "__notebook__.ipynb",
      "output_path": "__notebook__.ipynb",
      "parameters": {},
      "start_time": "2025-09-25T00:41:11.554720",
      "version": "2.6.0"
    },
    "colab": {
      "provenance": []
    }
  },
  "nbformat": 4,
  "nbformat_minor": 5
}